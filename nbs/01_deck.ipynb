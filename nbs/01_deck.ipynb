{
 "cells": [
  {
   "cell_type": "markdown",
   "id": "15bdfb4f-b02f-4e3c-9334-90518bade476",
   "metadata": {},
   "source": [
    "# deck--A deck of cards\n",
    "\n",
    "> A collection of cards"
   ]
  },
  {
   "cell_type": "code",
   "execution_count": 1,
   "id": "224b46d5-9001-4d11-86eb-d49ef7b11797",
   "metadata": {},
   "outputs": [],
   "source": [
    "#| default_exp deck"
   ]
  },
  {
   "cell_type": "code",
   "execution_count": 2,
   "id": "b2a6615f-9ba9-4d7e-9547-1609858cde36",
   "metadata": {},
   "outputs": [],
   "source": [
    "#| export\n",
    "from nbdev_cards.card import *"
   ]
  },
  {
   "cell_type": "code",
   "execution_count": 3,
   "id": "81a7f0aa-f9ee-4fef-b413-d5efed3c6b8e",
   "metadata": {},
   "outputs": [],
   "source": [
    "#| hide\n",
    "from nbdev.showdoc import *"
   ]
  },
  {
   "cell_type": "code",
   "execution_count": 4,
   "id": "c811a477-627c-4142-8a8f-25c676c507cc",
   "metadata": {},
   "outputs": [],
   "source": [
    "#| export\n",
    "class Deck:\n",
    "    def __init__(self): self.cards = [Card(rank, suit) for rank in ranks for suit in suits]\n",
    "    def __len__(self): return len(self.cards)\n",
    "    def __contains__(self, card:Card): return card in self.cards\n",
    "    def __str__(self): return '; '.join(map(str, self.cards))\n",
    "    __repr__ = __str__"
   ]
  },
  {
   "cell_type": "code",
   "execution_count": 5,
   "id": "921d1120-5924-4b11-b2fd-bec7bdee7e99",
   "metadata": {},
   "outputs": [
    {
     "data": {
      "text/plain": [
       "A♠; A♥; A♦; A♣; 2♠; 2♥; 2♦; 2♣; 3♠; 3♥; 3♦; 3♣; 4♠; 4♥; 4♦; 4♣; 5♠; 5♥; 5♦; 5♣; 6♠; 6♥; 6♦; 6♣; 7♠; 7♥; 7♦; 7♣; 8♠; 8♥; 8♦; 8♣; 9♠; 9♥; 9♦; 9♣; 10♠; 10♥; 10♦; 10♣; J♠; J♥; J♦; J♣; Q♠; Q♥; Q♦; Q♣; K♠; K♥; K♦; K♣"
      ]
     },
     "execution_count": 5,
     "metadata": {},
     "output_type": "execute_result"
    }
   ],
   "source": [
    "deck = Deck()\n",
    "deck"
   ]
  },
  {
   "cell_type": "code",
   "execution_count": 6,
   "id": "309c4b3b-631d-4c76-9542-fd0dbd4c76ea",
   "metadata": {},
   "outputs": [
    {
     "data": {
      "text/plain": [
       "52"
      ]
     },
     "execution_count": 6,
     "metadata": {},
     "output_type": "execute_result"
    }
   ],
   "source": [
    "len(deck)"
   ]
  },
  {
   "cell_type": "code",
   "execution_count": 7,
   "id": "2de7428c-c11e-4522-9a26-df661796f8df",
   "metadata": {},
   "outputs": [
    {
     "data": {
      "text/plain": [
       "True"
      ]
     },
     "execution_count": 7,
     "metadata": {},
     "output_type": "execute_result"
    }
   ],
   "source": [
    "Card('A', spades) in deck"
   ]
  },
  {
   "cell_type": "code",
   "execution_count": 8,
   "id": "105b804a-4152-4ba1-a31c-dc2b341b5365",
   "metadata": {},
   "outputs": [
    {
     "data": {
      "text/plain": [
       "True"
      ]
     },
     "execution_count": 8,
     "metadata": {},
     "output_type": "execute_result"
    }
   ],
   "source": [
    "Card('A', spades)==Card('A', spades)"
   ]
  },
  {
   "cell_type": "code",
   "execution_count": 9,
   "id": "7d290fc7-4a35-4368-afc1-80126f8c9ea4",
   "metadata": {},
   "outputs": [
    {
     "data": {
      "text/plain": [
       "True"
      ]
     },
     "execution_count": 9,
     "metadata": {},
     "output_type": "execute_result"
    }
   ],
   "source": [
    "deck.cards[0]==Card('A', spades)"
   ]
  },
  {
   "cell_type": "code",
   "execution_count": 10,
   "id": "8523451c-b6b3-4de1-bacd-8b272164e478",
   "metadata": {},
   "outputs": [],
   "source": [
    "#| hide\n",
    "import nbdev; nbdev.nbdev_export()"
   ]
  }
 ],
 "metadata": {
  "kernelspec": {
   "display_name": "Python 3 (ipykernel)",
   "language": "python",
   "name": "python3"
  },
  "language_info": {
   "codemirror_mode": {
    "name": "ipython",
    "version": 3
   },
   "file_extension": ".py",
   "mimetype": "text/x-python",
   "name": "python",
   "nbconvert_exporter": "python",
   "pygments_lexer": "ipython3",
   "version": "3.12.2"
  }
 },
 "nbformat": 4,
 "nbformat_minor": 5
}
